{
 "cells": [
  {
   "cell_type": "code",
   "execution_count": 12,
   "metadata": {},
   "outputs": [],
   "source": [
    "# Taxi Birth Death Model \n",
    "\n",
    "import numpy as np\n",
    "import matplotlib.pyplot as plt\n",
    "\n",
    "np.random.seed(10)\n",
    "\n",
    "def get_expected(X):\n",
    "    expected = sum(X) / len(X)\n",
    "    return expected\n",
    "\n",
    "def get_variance(X):\n",
    "    m = get_expected(X)\n",
    "    variance = sum((xi - m) ** 2 for xi in X) / len(X)\n",
    "    return variance\n",
    "\n",
    "def print_results(X_T1, X_T2, realizations):\n",
    "    for realization in range(realizations):\n",
    "        print(\"================================================================\")\n",
    "        print(\"Realization: %d\" % int(realization+1))\n",
    "        print(\"================================================================\")\n",
    "\n",
    "        expected = get_expected(X_T1[realization])\n",
    "        variance = get_variance(X_T1[realization])\n",
    "        covariance = get_covariance(X_T1[realization], X_T2[realization])\n",
    "        print(\"λ: %f\\nExpected: %f\\nVariance: %f\\nCovariance:\" %(lambda_, expected, variance))\n",
    "        print(covariance)\n",
    "        print(\"\\n\")\n",
    "\n",
    "\n",
    "def taxi_birth_death(birth_rate, death_rate, init_pop, max_pop, realizations):  \n",
    "    arrival_times = np.zeros((realizations, max_pop))\n",
    "    population = np.zeros((realizations, max_pop))\n",
    "    \n",
    "    arrival_times[:,0] = 0.001\n",
    "    population[:,0] = init_pop\n",
    "    \n",
    "    for realization in range(realizations):\n",
    "        i = 0\n",
    "        while i < (max_pop-1):\n",
    "            u1 = np.random.rand()\n",
    "            u2 = np.random.rand()\n",
    "            if (population[realization, i] == 0):\n",
    "                interarrival_time = -np.log(u1)/((birth_rate+death_rate))\n",
    "            else:\n",
    "                interarrival_time = -np.log(u1)/((birth_rate+death_rate)*population[realization,i])\n",
    "\n",
    "\n",
    "            arrival_times[realization,i+1] = arrival_times[realization,i] + interarrival_time\n",
    "\n",
    "            if u2 < birth_rate/(birth_rate+death_rate):\n",
    "                population[realization,i+1] = population[realization,i] + 1 # birth occurs\n",
    "            else:\n",
    "                if (population[realization, i] >= 1):\n",
    "                    population[realization,i+1] = population[realization,i] - 1 # death occurs\n",
    "                else:\n",
    "                    population[realization,i+1] = population[realization,i] # death occurs\n",
    "\n",
    "                \n",
    "            i += 1\n",
    "    \n",
    "    return [arrival_times, population]\n",
    "    \n",
    "\n",
    "def show_taxi_bd_graph(birth_rate, death_rate, init_pop, max_pop, realizations):\n",
    "    fig, ax = plt.subplots()\n",
    "    \n",
    "    [arrival_times, population] = taxi_birth_death(birth_rate, death_rate, init_pop, max_pop, realizations)\n",
    "\n",
    "    \n",
    "    xmax = min([max(arrival_times[realization,:]) for realization in range(realizations)])\n",
    "    #ymin = min([min(population[k,:]) for k in range(paths)])\n",
    "    ymax = max([max(population[realization,:]) for realization in range(realizations)])\n",
    "    \n",
    "    arrival_times[arrival_times==0] = np.nan\n",
    "    \n",
    "    ## Generates plots\n",
    "    for realization in range(realizations):\n",
    "        print(\"================================================================\")\n",
    "        print(\"Realization: %d\" % int(realization+1))\n",
    "        print(\"================================================================\")\n",
    "\n",
    "        expected = get_expected(population[realization,:])\n",
    "        variance = get_variance(population[realization,:])\n",
    "        print(\"Lambda: %d\\nMu: %d\\nExpected: %f\\n\" %(birth_rate, death_rate, expected))\n",
    "        print(\"\\n\")\n",
    "        plt.step(arrival_times[realization,:], population[realization,:], where='pre', label=\"Path %s\" % str(realization+1))\n",
    "        \n",
    "    plt.axis([0, np.minimum(xmax+0.2, max_pop), 0, np.minimum(ymax+2, 100)])\n",
    "    ax.set_title('Taxi Birth and Death Process', fontsize=20)\n",
    "    ax.set_xlabel('Time', fontsize=16)\n",
    "    ax.set_ylabel('Taxis', fontsize=16)\n",
    "    plt.xticks(fontsize=16)\n",
    "    plt.yticks(fontsize=16)\n",
    "    plt.tight_layout()\n",
    "    plt.legend(loc=1)\n",
    "    plt.grid(True)\n",
    "    plt.show()\n",
    "\n",
    "\n"
   ]
  },
  {
   "cell_type": "code",
   "execution_count": 13,
   "metadata": {},
   "outputs": [
    {
     "name": "stdout",
     "output_type": "stream",
     "text": [
      "================================================================\n",
      "Realization: 1\n",
      "================================================================\n",
      "Lambda: 1\n",
      "Mu: 2\n",
      "Expected: 1.100000\n",
      "\n",
      "\n",
      "\n",
      "================================================================\n",
      "Realization: 2\n",
      "================================================================\n",
      "Lambda: 1\n",
      "Mu: 2\n",
      "Expected: 1.192000\n",
      "\n",
      "\n",
      "\n",
      "================================================================\n",
      "Realization: 3\n",
      "================================================================\n",
      "Lambda: 1\n",
      "Mu: 2\n",
      "Expected: 1.328000\n",
      "\n",
      "\n",
      "\n",
      "================================================================\n",
      "Realization: 4\n",
      "================================================================\n",
      "Lambda: 1\n",
      "Mu: 2\n",
      "Expected: 1.166000\n",
      "\n",
      "\n",
      "\n",
      "================================================================\n",
      "Realization: 5\n",
      "================================================================\n",
      "Lambda: 1\n",
      "Mu: 2\n",
      "Expected: 0.884000\n",
      "\n",
      "\n",
      "\n"
     ]
    },
    {
     "data": {
      "image/png": "[encoded data removed]",
      "text/plain": [
       "<Figure size 432x288 with 1 Axes>"
      ]
     },
     "metadata": {
      "needs_background": "light"
     },
     "output_type": "display_data"
    }
   ],
   "source": [
    "init_pop = 0\n",
    "max_pop = 500\n",
    "realizations = 5\n",
    "birth_rate = 1.0 # taxis arrive\n",
    "death_rate = 2.0 # people arrive \n",
    "    \n",
    "show_taxi_bd_graph(birth_rate, death_rate, init_pop, max_pop, realizations)"
   ]
  },
  {
   "cell_type": "code",
   "execution_count": 6,
   "metadata": {},
   "outputs": [
    {
     "data": {
      "text/plain": [
       "array([[0.75008, 0.24992],\n",
       "       [0.74976, 0.25024]])"
      ]
     },
     "execution_count": 6,
     "metadata": {},
     "output_type": "execute_result"
    }
   ],
   "source": [
    "pij = np.array([[.8, .2], [.6, .4]])\n",
    "def rij(pij, n):\n",
    "    if n == 1:\n",
    "        return pij\n",
    "    else:\n",
    "        return np.dot(rij(pij, n-1), pij)\n",
    "\n",
    "rij(pij, 5)"
   ]
  },
  {
   "cell_type": "code",
   "execution_count": 7,
   "metadata": {},
   "outputs": [
    {
     "name": "stdout",
     "output_type": "stream",
     "text": [
      "[[0.5044955  0.41758242 0.07792208]]\n",
      "[[0.21188119 0.71485149 0.07326733]\n",
      " [0.90191388 0.         0.09808612]\n",
      " [0.25974026 0.74025974 0.        ]]\n"
     ]
    },
    {
     "data": {
      "text/plain": [
       "<matplotlib.axes._subplots.AxesSubplot at 0x113503150>"
      ]
     },
     "execution_count": 7,
     "metadata": {},
     "output_type": "execute_result"
    },
    {
     "data": {
      "image/png": "[encoded data removed]",
      "text/plain": [
       "<Figure size 432x288 with 1 Axes>"
      ]
     },
     "metadata": {
      "needs_background": "light"
     },
     "output_type": "display_data"
    }
   ],
   "source": [
    "import numpy as np\n",
    "import pandas as pd\n",
    "from random import seed\n",
    "from random import random\n",
    "import matplotlib.pyplot as plt\n",
    "P = np.array([[0.2, 0.7, 0.1],\n",
    "              [0.9, 0.0, 0.1],\n",
    "              [0.2, 0.8, 0.0]])\n",
    "stateChangeHist= np.array([[0.0,  0.0,  0.0],\n",
    "                          [0.0, 0.0,  0.0],\n",
    "                          [0.0, 0.0,  0.0]])\n",
    "state=np.array([[1.0, 0.0, 0.0]])\n",
    "currentState=0\n",
    "stateHist=state\n",
    "dfStateHist=pd.DataFrame(state)\n",
    "distr_hist = [[0,0,0]]\n",
    "seed(4)\n",
    "# Simulate from multinomial distribution\n",
    "def simulate_multinomial(vmultinomial):\n",
    "    r=np.random.uniform(0.0, 1.0)\n",
    "    CS=np.cumsum(vmultinomial)\n",
    "    CS=np.insert(CS,0,0)\n",
    "    m=(np.where(CS<r))[0]\n",
    "    nextState=m[len(m)-1]\n",
    "    return nextState\n",
    "\n",
    "for x in range(1000):\n",
    "    currentRow=np.ma.masked_values((P[currentState]), 0.0)\n",
    "    nextState=simulate_multinomial(currentRow)\n",
    "    # Keep track of state changes\n",
    "    stateChangeHist[currentState,nextState]+=1\n",
    "    # Keep track of the state vector itself\n",
    "    state=np.array([[0,0,0]])\n",
    "    state[0,nextState]=1.0\n",
    "    # Keep track of state history\n",
    "    stateHist=np.append(stateHist,state,axis=0)\n",
    "    currentState=nextState\n",
    "    # calculate the actual distribution over the 3 states so far\n",
    "    totals=np.sum(stateHist,axis=0)\n",
    "    gt=np.sum(totals)\n",
    "    distrib=totals/gt\n",
    "    distrib=np.reshape(distrib,(1,3))\n",
    "    distr_hist=np.append(distr_hist,distrib,axis=0)\n",
    "                       \n",
    "print(distrib)\n",
    "P_hat=stateChangeHist/stateChangeHist.sum(axis=1)[:,None]\n",
    "# Check estimated state transition probabilities based on history so far:\n",
    "print(P_hat)\n",
    "dfDistrHist = pd.DataFrame(distr_hist)\n",
    "# Plot the distribution as the simulation progresses over time\n",
    "dfDistrHist.plot(title=\"Simulation History\")\n",
    "#plt.show()"
   ]
  },
  {
   "cell_type": "code",
   "execution_count": null,
   "metadata": {},
   "outputs": [],
   "source": []
  },
  {
   "cell_type": "code",
   "execution_count": null,
   "metadata": {},
   "outputs": [],
   "source": []
  }
 ],
 "metadata": {
  "kernelspec": {
   "display_name": "Python 3",
   "language": "python",
   "name": "python3"
  },
  "language_info": {
   "codemirror_mode": {
    "name": "ipython",
    "version": 3
   },
   "file_extension": ".py",
   "mimetype": "text/x-python",
   "name": "python",
   "nbconvert_exporter": "python",
   "pygments_lexer": "ipython3",
   "version": "3.7.5"
  }
 },
 "nbformat": 4,
 "nbformat_minor": 2
}
